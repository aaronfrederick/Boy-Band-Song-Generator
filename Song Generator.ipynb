{
 "cells": [
  {
   "cell_type": "code",
   "execution_count": 1,
   "metadata": {},
   "outputs": [
    {
     "name": "stderr",
     "output_type": "stream",
     "text": [
      "Using TensorFlow backend.\n",
      "/Users/aaronfrederick/Desktop/venv/lib/python3.7/importlib/_bootstrap.py:219: RuntimeWarning: compiletime version 3.6 of module 'tensorflow.python.framework.fast_tensor_util' does not match runtime version 3.7\n",
      "  return f(*args, **kwds)\n"
     ]
    }
   ],
   "source": [
    "from keras.preprocessing.text import Tokenizer\n",
    "import numpy as np\n",
    "import pandas as pd\n",
    "from keras import optimizers, regularizers\n",
    "from keras.models import Sequential\n",
    "from keras.layers import Dense, Dropout, LSTM, Flatten\n",
    "from keras.preprocessing.sequence import pad_sequences\n",
    "from keras.callbacks import ModelCheckpoint\n",
    "from keras.utils import np_utils, to_categorical\n",
    "from keras.layers import Embedding\n",
    "from sklearn.model_selection import train_test_split\n",
    "import pickle\n",
    "import re\n",
    "import operator\n",
    "\n",
    "import seaborn as sns\n",
    "import matplotlib.pyplot as plt"
   ]
  },
  {
   "cell_type": "code",
   "execution_count": 2,
   "metadata": {},
   "outputs": [],
   "source": [
    "corpus = pickle.load(open('corpus.pkl', 'rb'))\n",
    "cleaned = [re.sub('[^a-zA-Z ]', '', song) for song in corpus]"
   ]
  },
  {
   "cell_type": "code",
   "execution_count": 3,
   "metadata": {},
   "outputs": [
    {
     "name": "stderr",
     "output_type": "stream",
     "text": [
      "/Users/aaronfrederick/Desktop/venv/lib/python3.7/site-packages/scipy/stats/stats.py:1713: FutureWarning: Using a non-tuple sequence for multidimensional indexing is deprecated; use `arr[tuple(seq)]` instead of `arr[seq]`. In the future this will be interpreted as an array index, `arr[np.array(seq)]`, which will result either in an error or a different result.\n",
      "  return np.add.reduce(sorted[indexer] * weights, axis=axis) / sumval\n"
     ]
    },
    {
     "data": {
      "text/plain": [
       "<matplotlib.axes._subplots.AxesSubplot at 0x12c96b048>"
      ]
     },
     "execution_count": 3,
     "metadata": {},
     "output_type": "execute_result"
    },
    {
     "data": {
      "image/png": "[encoded data removed]",
      "text/plain": [
       "<Figure size 432x288 with 1 Axes>"
      ]
     },
     "metadata": {
      "needs_background": "light"
     },
     "output_type": "display_data"
    }
   ],
   "source": [
    "cleaned = list(set(cleaned))\n",
    "tokens = [song.split() for song in cleaned]\n",
    "\n",
    "#Turn words to ints\n",
    "tokenizer = Tokenizer()\n",
    "tokenizer.fit_on_texts(tokens)\n",
    "sequences = tokenizer.texts_to_sequences(tokens)\n",
    "vocab_size = len(tokenizer.word_index) + 1\n",
    "\n",
    "sequences = np.array(sequences)\n",
    "\n",
    "lengths = [len(song) for song in sequences]\n",
    "#plot distribution of sequence lengths\n",
    "sns.distplot(lengths, bins = 45)"
   ]
  },
  {
   "cell_type": "code",
   "execution_count": 4,
   "metadata": {},
   "outputs": [],
   "source": [
    "#grab data in a length that makes sense, padding the almost-long enoughs and truncating the too-longs\n",
    "pad_matrix = np.zeros((688,330))\n",
    "\n",
    "for i in range(688):\n",
    "    if len(sequences[i]) > 280:\n",
    "        for j, value in enumerate(sequences[i]):\n",
    "            if j <330:\n",
    "                pad_matrix[i][j] = value"
   ]
  },
  {
   "cell_type": "code",
   "execution_count": 5,
   "metadata": {},
   "outputs": [
    {
     "data": {
      "text/plain": [
       "0.9764724997968965"
      ]
     },
     "execution_count": 5,
     "metadata": {},
     "output_type": "execute_result"
    }
   ],
   "source": [
    "#grab nonzero elements of the padded matrix\n",
    "new_pad = np.array([non_zero for non_zero in pad_matrix if non_zero.sum() > 0])\n",
    "\n",
    "z_count = 0\n",
    "for row in new_pad:\n",
    "    for val in row:\n",
    "        if val == 0:\n",
    "            z_count += 1\n",
    "\n",
    "#print percent of nonzero values in the dataset \n",
    "(new_pad.shape[0] * new_pad.shape[1] - z_count) / (new_pad.shape[0] * new_pad.shape[1])"
   ]
  },
  {
   "cell_type": "code",
   "execution_count": 6,
   "metadata": {},
   "outputs": [],
   "source": [
    "X, y = new_pad[:,:-1], new_pad[:,-1]\n",
    "y = to_categorical(y, num_classes=vocab_size)\n",
    "seq_length = X.shape[1]\n",
    "\n",
    "X_train, X_valid, y_train, y_valid = train_test_split(X, y, test_size=0.1)"
   ]
  },
  {
   "cell_type": "code",
   "execution_count": 7,
   "metadata": {},
   "outputs": [],
   "source": [
    "#Create model *DONT USE DROPOUT - DEPENDENCY ERROR*\n",
    "model = Sequential()\n",
    "model.add(Embedding(vocab_size, output_dim=50, input_length=seq_length))\n",
    "model.add(LSTM(24, activation='relu', return_sequences=True, kernel_regularizer=regularizers.l2(0.05)))\n",
    "model.add(LSTM(14, activation='relu', kernel_regularizer=regularizers.l2(0.05)))\n",
    "model.add(Dense(4, activation='relu', kernel_regularizer=regularizers.l2(0.05)))\n",
    "model.add(Dense(vocab_size, activation='sigmoid'))"
   ]
  },
  {
   "cell_type": "code",
   "execution_count": 8,
   "metadata": {},
   "outputs": [],
   "source": [
    "sgd = optimizers.SGD(lr=0.05, decay=0, momentum=0.1, nesterov=True)"
   ]
  },
  {
   "cell_type": "code",
   "execution_count": 9,
   "metadata": {},
   "outputs": [
    {
     "name": "stdout",
     "output_type": "stream",
     "text": [
      "_________________________________________________________________\n",
      "Layer (type)                 Output Shape              Param #   \n",
      "=================================================================\n",
      "embedding_1 (Embedding)      (None, 329, 50)           270250    \n",
      "_________________________________________________________________\n",
      "lstm_1 (LSTM)                (None, 329, 24)           7200      \n",
      "_________________________________________________________________\n",
      "lstm_2 (LSTM)                (None, 14)                2184      \n",
      "_________________________________________________________________\n",
      "dense_1 (Dense)              (None, 4)                 60        \n",
      "_________________________________________________________________\n",
      "dense_2 (Dense)              (None, 5405)              27025     \n",
      "=================================================================\n",
      "Total params: 306,719\n",
      "Trainable params: 306,719\n",
      "Non-trainable params: 0\n",
      "_________________________________________________________________\n"
     ]
    }
   ],
   "source": [
    "model.compile(loss='categorical_crossentropy', optimizer=sgd, metrics=['accuracy'])\n",
    "\n",
    "model.summary()"
   ]
  },
  {
   "cell_type": "code",
   "execution_count": 10,
   "metadata": {},
   "outputs": [
    {
     "name": "stdout",
     "output_type": "stream",
     "text": [
      "Train on 335 samples, validate on 38 samples\n",
      "Epoch 1/5\n",
      "335/335 [==============================] - 4s 13ms/step - loss: 13.7877 - acc: 0.2239 - val_loss: 13.6609 - val_acc: 0.3684\n",
      "Epoch 2/5\n",
      "335/335 [==============================] - 2s 7ms/step - loss: 13.6118 - acc: 0.3552 - val_loss: 13.4887 - val_acc: 0.3684\n",
      "Epoch 3/5\n",
      "335/335 [==============================] - 2s 7ms/step - loss: 13.4413 - acc: 0.3552 - val_loss: 13.3222 - val_acc: 0.3684\n",
      "Epoch 4/5\n",
      "335/335 [==============================] - 2s 7ms/step - loss: 13.2766 - acc: 0.3552 - val_loss: 13.1613 - val_acc: 0.3684\n",
      "Epoch 5/5\n",
      "335/335 [==============================] - 2s 7ms/step - loss: 13.1172 - acc: 0.3552 - val_loss: 13.0056 - val_acc: 0.3684\n"
     ]
    },
    {
     "data": {
      "text/plain": [
       "<keras.callbacks.History at 0x130257dd8>"
      ]
     },
     "execution_count": 10,
     "metadata": {},
     "output_type": "execute_result"
    }
   ],
   "source": [
    "model.fit(X_train, y_train, validation_data=[X_valid, y_valid], batch_size=128, epochs=5)"
   ]
  },
  {
   "cell_type": "code",
   "execution_count": 11,
   "metadata": {},
   "outputs": [],
   "source": [
    "def gen_sequence(seed, model=model, tokenizer=tokenizer, length=329, n_words=70):\n",
    "    result = []\n",
    "    in_word = seed\n",
    "    for _ in range(n_words):\n",
    "        encoded = tokenizer.texts_to_sequences([in_word])[0]\n",
    "        encoded = pad_sequences([encoded], maxlen=length, truncating='pre')\n",
    "        pred = model.predict_classes(encoded)\n",
    "        out = ''\n",
    "        for word, index in tokenizer.word_index.items():\n",
    "            if index==pred:\n",
    "                out = word\n",
    "                break\n",
    "        in_word += ' ' + out\n",
    "        result.append(out)\n",
    "    return ' '.join(result)"
   ]
  },
  {
   "cell_type": "code",
   "execution_count": 12,
   "metadata": {},
   "outputs": [
    {
     "data": {
      "text/plain": [
       "'    '"
      ]
     },
     "execution_count": 12,
     "metadata": {},
     "output_type": "execute_result"
    }
   ],
   "source": [
    "gen_sequence('me', n_words=5)"
   ]
  },
  {
   "cell_type": "code",
   "execution_count": 13,
   "metadata": {},
   "outputs": [
    {
     "name": "stdout",
     "output_type": "stream",
     "text": [
      "[0]\n",
      "[0]\n",
      "[0]\n",
      "[0]\n",
      "[0]\n",
      "[0]\n",
      "[0]\n",
      "[0]\n"
     ]
    }
   ],
   "source": [
    "for seed in ['me', 'you', 'why', 'i', 'hate', 'seed', 'love', 'what']:\n",
    "    encoded = tokenizer.texts_to_sequences([seed])[0]\n",
    "    encoded = pad_sequences([encoded], maxlen=329, truncating='pre')\n",
    "    pred = model.predict_classes(encoded)\n",
    "\n",
    "    print(pred)"
   ]
  },
  {
   "cell_type": "code",
   "execution_count": null,
   "metadata": {},
   "outputs": [],
   "source": []
  }
 ],
 "metadata": {
  "kernelspec": {
   "display_name": "Python 3",
   "language": "python",
   "name": "python3"
  },
  "language_info": {
   "codemirror_mode": {
    "name": "ipython",
    "version": 3
   },
   "file_extension": ".py",
   "mimetype": "text/x-python",
   "name": "python",
   "nbconvert_exporter": "python",
   "pygments_lexer": "ipython3",
   "version": "3.7.0"
  }
 },
 "nbformat": 4,
 "nbformat_minor": 2
}
