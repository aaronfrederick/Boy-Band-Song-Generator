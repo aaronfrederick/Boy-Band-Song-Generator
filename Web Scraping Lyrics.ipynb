{
 "cells": [
  {
   "cell_type": "code",
   "execution_count": 1,
   "metadata": {},
   "outputs": [],
   "source": [
    "import pandas as pd\n",
    "from bs4 import BeautifulSoup\n",
    "import requests\n",
    "import time\n",
    "from tqdm import tqdm\n",
    "from PyLyrics import *"
   ]
  },
  {
   "cell_type": "code",
   "execution_count": null,
   "metadata": {},
   "outputs": [],
   "source": [
    "titles = pickle.load(open('titles.pkl', 'rb'))"
   ]
  },
  {
   "cell_type": "code",
   "execution_count": 3,
   "metadata": {},
   "outputs": [
    {
     "name": "stderr",
     "output_type": "stream",
     "text": [
      "  0%|          | 0/936 [00:00<?, ?it/s]/Users/aaronfrederick/Desktop/venv/lib/python3.7/site-packages/PyLyrics/functions.py:78: UserWarning: No parser was explicitly specified, so I'm using the best available HTML parser for this system (\"lxml\"). This usually isn't a problem, but if you run this code on another system, or in a different virtual environment, it may use a different parser and behave differently.\n",
      "\n",
      "The code that caused this warning is on line 78 of the file /Users/aaronfrederick/Desktop/venv/lib/python3.7/site-packages/PyLyrics/functions.py. To get rid of this warning, pass the additional argument 'features=\"lxml\"' to the BeautifulSoup constructor.\n",
      "\n",
      "  s = BeautifulSoup(r.text)\n",
      "100%|██████████| 936/936 [18:06<00:00,  1.15s/it]\n",
      "100%|██████████| 936/936 [18:42<00:00,  1.24s/it]\n",
      "100%|██████████| 936/936 [22:37<00:00,  1.24s/it]  \n",
      "100%|██████████| 936/936 [19:29<00:00,  1.24s/it]\n",
      "100%|██████████| 936/936 [20:12<00:00,  1.28s/it]\n",
      "100%|██████████| 936/936 [19:33<00:00,  1.24s/it]\n",
      "100%|██████████| 936/936 [19:26<00:00,  1.25s/it]\n",
      "100%|██████████| 936/936 [19:31<00:00,  1.26s/it]\n"
     ]
    }
   ],
   "source": [
    "new_lyrics = []\n",
    "for artist in ['Backstreet Boys',\n",
    "              'Nsync',\n",
    "               'Boyz ii Men',\n",
    "               'One Direction',\n",
    "               \"Why don't we\",\n",
    "               'New Kids on the Block',\n",
    "               'Jonas Brothers',\n",
    "               'The Wanted']:\n",
    "    for song in tqdm(titles):\n",
    "        try:\n",
    "            time.sleep(1)\n",
    "            text = PyLyrics.getLyrics(artist, song)\n",
    "            new_lyrics.append(text.replace('\\n',' ').lower())\n",
    "        except:\n",
    "            continue"
   ]
  },
  {
   "cell_type": "code",
   "execution_count": 4,
   "metadata": {},
   "outputs": [],
   "source": [
    "import pickle"
   ]
  },
  {
   "cell_type": "code",
   "execution_count": 5,
   "metadata": {},
   "outputs": [],
   "source": [
    "pickle.dump(new_lyrics, open('corpus.pkl', 'wb'))"
   ]
  },
  {
   "cell_type": "code",
   "execution_count": 10,
   "metadata": {},
   "outputs": [
    {
     "data": {
      "text/plain": [
       "\"i got mixed emotions did i finally find me a river that could lead me out to the ocean? 'cause i've only ever known the kind of love that leaves you bodied and broken so forgive me for my mixed emotions, yeah yeah  i'm not that kind of person who can fall in and out of love with you that's not what love's supposed to do i'm not that kind of person who can fall in and out of love with you that's not what love's supposed to do  baby, don't go breaking my heart, breaking my heart baby, don't go breaking my heart, breaking my heart 'cause it's the only one i got 'cause it's the only one i got  am i being too open? 'cause i told you everything i have to say and now we're having a moment does it make you wanna pick up all your things and drive away like it's stolen? just forgive me if i'm being too open, no no no no, yeah yeah yeah  i'm not that kind of person who can fall in and out of love with you that's not what love's supposed to do (what love's supposed to do) i'm not that kind of person who can fall in and out of love with you that's not what love's supposed to do  baby, don't go breaking my heart, breaking my heart baby, don't go breaking my heart, breaking my heart 'cause it's the only one i got 'cause it's the only one i got baby, don't go breaking my heart, breaking my heart baby, don't go breaking my heart, breaking my heart 'cause it's the only one i got 'cause it's the only one i got  i've been broken, i've been bruised but now i'm all in 'cause of you so if you're gonna love me, love me right, yeah but if you're gonna be someone that hurts somebody just for fun then do it to a heart that isn't mine  baby, don't go breaking my heart, breaking my heart baby, don't go breaking my heart, breaking my heart 'cause it's the only one i got 'cause it's the only one i got baby, don't go breaking my heart, breaking my heart baby, don't go breaking my heart, breaking my heart 'cause it's the only one i got it's the only one, it's the only one i got 'cause it's the only one i got baby don't go...\""
      ]
     },
     "execution_count": 10,
     "metadata": {},
     "output_type": "execute_result"
    }
   ],
   "source": [
    "new_lyrics[111]"
   ]
  },
  {
   "cell_type": "code",
   "execution_count": null,
   "metadata": {},
   "outputs": [],
   "source": []
  }
 ],
 "metadata": {
  "kernelspec": {
   "display_name": "Python 3",
   "language": "python",
   "name": "python3"
  },
  "language_info": {
   "codemirror_mode": {
    "name": "ipython",
    "version": 3
   },
   "file_extension": ".py",
   "mimetype": "text/x-python",
   "name": "python",
   "nbconvert_exporter": "python",
   "pygments_lexer": "ipython3",
   "version": "3.7.0"
  }
 },
 "nbformat": 4,
 "nbformat_minor": 2
}
